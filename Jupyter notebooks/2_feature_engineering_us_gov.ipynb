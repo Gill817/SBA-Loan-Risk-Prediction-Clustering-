{
 "cells": [
  {
   "cell_type": "code",
   "execution_count": 3,
   "id": "dacf2676-02da-4e89-8357-6580fb4be27f",
   "metadata": {},
   "outputs": [
    {
     "data": {
      "text/plain": [
       "DefaultFlag\n",
       "0    291517\n",
       "1     39186\n",
       "Name: count, dtype: int64"
      ]
     },
     "execution_count": 3,
     "metadata": {},
     "output_type": "execute_result"
    }
   ],
   "source": [
    "import pandas as pd \n",
    "data = pd.read_csv(\"sba_loans_cleaned.csv\", parse_dates=['AsOfDate','ApprovalDate','FirstDisbursementDate','PaidinFullDate','ChargeoffDate'])\n",
    "# 1 = default (CANCLD or CHGOFF), 0 = paid in full\n",
    "data['DefaultFlag'] = data['LoanStatus'].apply(lambda x: 1 if x in ['CANCLD','CHGOFF'] else 0)\n",
    "\n",
    "# Quick check\n",
    "data['DefaultFlag'].value_counts()\n"
   ]
  },
  {
   "cell_type": "code",
   "execution_count": 4,
   "id": "46b02533-1262-48ea-a2c6-565ed028322c",
   "metadata": {},
   "outputs": [],
   "source": [
    "data['LoanToGuaranteeRatio'] = data['GrossApproval'] / data['SBAGuaranteedApproval']\n"
   ]
  },
  {
   "cell_type": "code",
   "execution_count": 5,
   "id": "78718a97-2033-4a9a-b407-eabb4f378e7a",
   "metadata": {},
   "outputs": [],
   "source": [
    "data['InterestRate'] = data['InitialInterestRate']\n"
   ]
  },
  {
   "cell_type": "code",
   "execution_count": 6,
   "id": "7bf5bfc8-4989-4147-87a7-fa46c7f3206f",
   "metadata": {},
   "outputs": [],
   "source": [
    "import numpy as np\n",
    "data['GrossApproval_log'] = np.log1p(data['GrossApproval'])\n",
    "data['SBAGuaranteedApproval_log'] = np.log1p(data['SBAGuaranteedApproval'])\n"
   ]
  },
  {
   "cell_type": "code",
   "execution_count": 7,
   "id": "1059c067-8d3f-41f1-b613-1d207761d6c9",
   "metadata": {},
   "outputs": [],
   "source": [
    "from sklearn.preprocessing import LabelEncoder\n",
    "\n",
    "cat_cols = ['BorrState','ProjectState','BusinessType','BusinessAge','NAICSDescription','BankName']\n",
    "\n",
    "for col in cat_cols:\n",
    "    le = LabelEncoder()\n",
    "    data[col+'_encoded'] = le.fit_transform(data[col])\n"
   ]
  },
  {
   "cell_type": "code",
   "execution_count": 8,
   "id": "23097009-b3bf-43d7-b690-a8d9032bae88",
   "metadata": {},
   "outputs": [],
   "source": [
    "cols_to_drop = ['BorrName','LoanStatus','AsOfDate','ApprovalDate','FirstDisbursementDate','PaidinFullDate','ChargeoffDate']\n",
    "data.drop(columns=cols_to_drop, inplace=True)\n"
   ]
  },
  {
   "cell_type": "code",
   "execution_count": 9,
   "id": "f48a7448-6853-45f3-97f9-8651a12e705e",
   "metadata": {},
   "outputs": [
    {
     "name": "stdout",
     "output_type": "stream",
     "text": [
      "Feature-engineered dataset saved as sba_loans_featured.csv\n"
     ]
    }
   ],
   "source": [
    "data.to_csv(r\"C:\\Users\\GILL\\PROJECT_3\\sba_loans_featured.csv\", index=False)\n",
    "print(\"Feature-engineered dataset saved as sba_loans_featured.csv\")\n"
   ]
  },
  {
   "cell_type": "code",
   "execution_count": null,
   "id": "221ec0af-7083-4108-b896-62c277468a45",
   "metadata": {},
   "outputs": [],
   "source": []
  }
 ],
 "metadata": {
  "kernelspec": {
   "display_name": "Python 3 (ipykernel)",
   "language": "python",
   "name": "python3"
  },
  "language_info": {
   "codemirror_mode": {
    "name": "ipython",
    "version": 3
   },
   "file_extension": ".py",
   "mimetype": "text/x-python",
   "name": "python",
   "nbconvert_exporter": "python",
   "pygments_lexer": "ipython3",
   "version": "3.13.5"
  }
 },
 "nbformat": 4,
 "nbformat_minor": 5
}
